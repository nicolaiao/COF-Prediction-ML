{
 "cells": [
  {
   "cell_type": "code",
   "execution_count": 38,
   "metadata": {
    "metadata": {}
   },
   "outputs": [
    {
     "name": "stdout",
     "output_type": "stream",
     "text": [
      "       ZM1Kup    MaxsOH     Pol         H%       IC2  B03[C-C]  B04[O-O]  \\\n",
      "0  141.034894  8.528677  6.7500  60.869565  2.974330      1.00    0.2500   \n",
      "1  141.034894  8.528677  6.7500  60.869565  2.974330      1.00    0.2500   \n",
      "2   77.569192  4.690772  3.7125  63.478261  1.811370      0.55    0.1375   \n",
      "3   77.569192  4.690772  3.7125  63.478261  1.811370      0.55    0.1375   \n",
      "4  140.310997  8.524186  6.7550  60.930812  2.968843      1.00    0.2450   \n",
      "\n",
      "   minsssCH  P_VSA_LogP_6  s2_numRotBonds  ...   MDEC-11  P_VSA_ppp_ter  \\\n",
      "0 -0.265069           0.0             0.0  ...  0.154167      98.604493   \n",
      "1 -0.265069           0.0             0.0  ...  0.154167      98.604493   \n",
      "2 -0.145788           0.0             0.0  ...  0.084792      54.232471   \n",
      "3 -0.145788           0.0             0.0  ...  0.084792      54.232471   \n",
      "4 -0.259768           0.0             0.0  ...  0.156083      97.993699   \n",
      "\n",
      "   P_VSA_charge_9    Xindex     MAXDN  P_VSA_charge_7       DELS  P_VSA_MR_2  \\\n",
      "0       79.956452  1.047941  1.595148       14.505072  12.916195   64.741061   \n",
      "1       79.956452  1.047941  1.595148       14.505072  12.916195   64.741061   \n",
      "2       43.976048  0.576367  0.877331        7.977790   7.103907   35.607584   \n",
      "3       43.976048  0.576367  0.877331        7.977790   7.103907   35.607584   \n",
      "4       78.592745  1.047265  1.598935       14.408244  12.818727   64.124522   \n",
      "\n",
      "        cof  Group ID  \n",
      "0  0.143783        36  \n",
      "1  0.144303        36  \n",
      "2  0.208416       206  \n",
      "3  0.224655       206  \n",
      "4  0.135605        43  \n",
      "\n",
      "[5 rows x 38 columns]\n"
     ]
    }
   ],
   "source": [
    "from dataplotter import plot_predictions, plot_residuals\n",
    "import pandas as pd\n",
    "import numpy as np\n",
    "from load_data import LoadData\n",
    "data = LoadData(\"master_data_filtered_final.xlsx\").get_data()\n",
    "print(data.head())"
   ]
  },
  {
   "cell_type": "code",
   "execution_count": 39,
   "metadata": {
    "metadata": {}
   },
   "outputs": [],
   "source": [
    "from ydata_profiling import ProfileReport\n",
    "profile = ProfileReport()\n",
    "profile.config.interactions.targets = ['cof']\n",
    "profile.df = data"
   ]
  },
  {
   "cell_type": "code",
   "execution_count": 40,
   "metadata": {},
   "outputs": [
    {
     "data": {
      "application/vnd.jupyter.widget-view+json": {
       "model_id": "b3127b7806d84698be4ef1f036d99d0e",
       "version_major": 2,
       "version_minor": 0
      },
      "text/plain": [
       "Summarize dataset:   0%|          | 0/5 [00:00<?, ?it/s]"
      ]
     },
     "metadata": {},
     "output_type": "display_data"
    },
    {
     "data": {
      "application/vnd.jupyter.widget-view+json": {
       "model_id": "2bce30bba9df425591275ff658631486",
       "version_major": 2,
       "version_minor": 0
      },
      "text/plain": [
       "Generate report structure:   0%|          | 0/1 [00:00<?, ?it/s]"
      ]
     },
     "metadata": {},
     "output_type": "display_data"
    },
    {
     "data": {
      "application/vnd.jupyter.widget-view+json": {
       "model_id": "3ef07c37659c44e3b3009fd4565e0553",
       "version_major": 2,
       "version_minor": 0
      },
      "text/plain": [
       "Render HTML:   0%|          | 0/1 [00:00<?, ?it/s]"
      ]
     },
     "metadata": {},
     "output_type": "display_data"
    },
    {
     "data": {
      "application/vnd.jupyter.widget-view+json": {
       "model_id": "ee949926e22341979e63f17a4a1b0ad6",
       "version_major": 2,
       "version_minor": 0
      },
      "text/plain": [
       "Export report to file:   0%|          | 0/1 [00:00<?, ?it/s]"
      ]
     },
     "metadata": {},
     "output_type": "display_data"
    }
   ],
   "source": [
    "profile.to_file(\"profiling_data.html\")"
   ]
  },
  {
   "cell_type": "code",
   "execution_count": 7,
   "metadata": {},
   "outputs": [
    {
     "name": "stdout",
     "output_type": "stream",
     "text": [
      "False\n"
     ]
    }
   ],
   "source": [
    "from dataplotter import plot_predictions, plot_residuals\n",
    "import pandas as pd\n",
    "import numpy as np\n",
    "from load_data import LoadData\n",
    "data = LoadData(\"master_data_transformed.xlsx\").get_data()\n",
    "print(data.isna().sum().any())"
   ]
  },
  {
   "cell_type": "code",
   "execution_count": 8,
   "metadata": {},
   "outputs": [
    {
     "data": {
      "application/vnd.jupyter.widget-view+json": {
       "model_id": "1524ce9d7ecb48d796ee79a0cffd21ec",
       "version_major": 2,
       "version_minor": 0
      },
      "text/plain": [
       "Summarize dataset:   0%|          | 0/5 [00:00<?, ?it/s]"
      ]
     },
     "metadata": {},
     "output_type": "display_data"
    },
    {
     "data": {
      "application/vnd.jupyter.widget-view+json": {
       "model_id": "700fcff0e7254568b0b4a0f8f493aa97",
       "version_major": 2,
       "version_minor": 0
      },
      "text/plain": [
       "Generate report structure:   0%|          | 0/1 [00:00<?, ?it/s]"
      ]
     },
     "metadata": {},
     "output_type": "display_data"
    },
    {
     "data": {
      "application/vnd.jupyter.widget-view+json": {
       "model_id": "86548ecf9cac41dcb4294ed9642e4ddd",
       "version_major": 2,
       "version_minor": 0
      },
      "text/plain": [
       "Render HTML:   0%|          | 0/1 [00:00<?, ?it/s]"
      ]
     },
     "metadata": {},
     "output_type": "display_data"
    },
    {
     "data": {
      "application/vnd.jupyter.widget-view+json": {
       "model_id": "ed203dcdcb664af2b0e286a121d5d264",
       "version_major": 2,
       "version_minor": 0
      },
      "text/plain": [
       "Export report to file:   0%|          | 0/1 [00:00<?, ?it/s]"
      ]
     },
     "metadata": {},
     "output_type": "display_data"
    }
   ],
   "source": [
    "from ydata_profiling import ProfileReport\n",
    "profile = ProfileReport()\n",
    "profile.config.interactions.targets = ['cof']\n",
    "profile.df = data\n",
    "profile.to_file(\"profiling_data_transformed.html\")"
   ]
  }
 ],
 "metadata": {
  "kernelspec": {
   "display_name": "machinelearning2",
   "language": "python",
   "name": "python3"
  },
  "language_info": {
   "codemirror_mode": {
    "name": "ipython",
    "version": 3
   },
   "file_extension": ".py",
   "mimetype": "text/x-python",
   "name": "python",
   "nbconvert_exporter": "python",
   "pygments_lexer": "ipython3",
   "version": "3.11.8"
  }
 },
 "nbformat": 4,
 "nbformat_minor": 2
}
